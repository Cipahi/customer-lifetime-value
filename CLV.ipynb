{
 "cells": [
  {
   "cell_type": "markdown",
   "metadata": {},
   "source": [
    "## initalise"
   ]
  },
  {
   "cell_type": "code",
   "execution_count": 1,
   "metadata": {
    "ExecuteTime": {
     "end_time": "2016-04-18T00:28:29.553358",
     "start_time": "2016-04-18T00:28:29.543354"
    },
    "collapsed": false
   },
   "outputs": [
    {
     "data": {
      "text/html": [
       "\n",
       "<style>\n",
       ".container {\n",
       "    width: 100%;\n",
       "}\n",
       "</style>\n"
      ],
      "text/plain": [
       "<IPython.core.display.HTML object>"
      ]
     },
     "execution_count": 1,
     "metadata": {},
     "output_type": "execute_result"
    }
   ],
   "source": [
    "## Initalise\n",
    "from IPython.core.display import HTML\n",
    "HTML(\"\"\"\n",
    "<style>\n",
    ".container {\n",
    "    width: 100%;\n",
    "}\n",
    "</style>\n",
    "\"\"\")"
   ]
  },
  {
   "cell_type": "code",
   "execution_count": 2,
   "metadata": {
    "ExecuteTime": {
     "end_time": "2016-04-15T00:03:15.602414",
     "start_time": "2016-04-15T00:03:12.619298"
    },
    "collapsed": false
   },
   "outputs": [
    {
     "name": "stderr",
     "output_type": "stream",
     "text": [
      "2016-04-15 00:03:15,417 [INFO] graphlab.cython.cy_server, 176: GraphLab Create v1.8.5 started. Logging: /tmp/graphlab_server_1460678593.log\n"
     ]
    },
    {
     "name": "stdout",
     "output_type": "stream",
     "text": [
      "This non-commercial license of GraphLab Create is assigned to kevin.mcisaac@gmail.com and will expire on November 06, 2016. For commercial licensing options, visit https://dato.com/buy/.\n"
     ]
    },
    {
     "name": "stderr",
     "output_type": "stream",
     "text": [
      "/home/ec2-user/anaconda2/envs/dato-env/lib/python2.7/site-packages/matplotlib/__init__.py:872: UserWarning: axes.color_cycle is deprecated and replaced with axes.prop_cycle; please use the latter.\n",
      "  warnings.warn(self.msg_depr % (key, alt_key))\n"
     ]
    }
   ],
   "source": [
    "import graphlab as gl\n",
    "gl.canvas.set_target('ipynb')\n",
    "import datetime\n",
    "import os as os\n",
    "\n",
    "%matplotlib inline\n",
    "import matplotlib.pyplot as plt\n",
    "\n",
    "import seaborn as sns\n",
    "sns.set()"
   ]
  },
  {
   "cell_type": "markdown",
   "metadata": {},
   "source": [
    "# Load and format data\n",
    "Load the online retail data and \n",
    "* Transform invoice date to datetime.datetime format\n",
    "* Estimate the profit on the transaction as 10% of the revenue (i.e., Quantity * Unit Price). In a real example the data would either have this precalcualted or have sufficient columns to calculate this quantity."
   ]
  },
  {
   "cell_type": "code",
   "execution_count": 3,
   "metadata": {
    "ExecuteTime": {
     "end_time": "2016-04-15T00:03:15.609542",
     "start_time": "2016-04-15T00:03:15.603487"
    },
    "collapsed": false
   },
   "outputs": [],
   "source": [
    "if not os.path.exists('Data/online_retail'):\n",
    "    sf = gl.SFrame('http://s3.amazonaws.com/dato-datasets/churn-prediction/online_retail.csv')\n",
    "    sf['InvoiceDate']=sf['InvoiceDate'].str_to_datetime(str_format='%m/%d/%y %H:%M')\n",
    "    sf['Profit'] = sf.apply(lambda row: row['Quantity']*row['UnitPrice']*0.15)\n",
    "    sf.save('Data/online_retail')\n",
    "else:\n",
    "    sf = gl.SFrame('Data/online_retail')"
   ]
  },
  {
   "cell_type": "code",
   "execution_count": 4,
   "metadata": {
    "ExecuteTime": {
     "end_time": "2016-04-15T00:03:17.476786",
     "start_time": "2016-04-15T00:03:17.403642"
    },
    "collapsed": false
   },
   "outputs": [
    {
     "name": "stdout",
     "output_type": "stream",
     "text": [
      "Note: this data has\n",
      "* 13 periods \n",
      "* 4,373 unique customers\n",
      "* 541,909 transactions\n"
     ]
    }
   ],
   "source": [
    "print \"Note: this data has\\n* {} periods \\n* {:4,d} unique customers\\n* {:6,d} transactions\".format(\n",
    "    (sf['InvoiceDate'].max()-sf['InvoiceDate'].min()).days/datetime.timedelta(days = 30).days+1, len(sf['CustomerID'].unique()), len(sf))"
   ]
  },
  {
   "cell_type": "markdown",
   "metadata": {},
   "source": [
    "# Customer Lifetime Value"
   ]
  },
  {
   "cell_type": "markdown",
   "metadata": {
    "ExecuteTime": {
     "end_time": "2016-04-14T05:52:36.653803",
     "start_time": "2016-04-14T05:52:36.651756"
    }
   },
   "source": [
    "This new method use a simple group aproach, rather than using TimeSeries and TimeSeriesGroup. This turns out to be about 100x faster and is much simpler to understand "
   ]
  },
  {
   "cell_type": "code",
   "execution_count": 5,
   "metadata": {
    "ExecuteTime": {
     "end_time": "2016-04-15T00:03:22.040644",
     "start_time": "2016-04-15T00:03:22.037289"
    },
    "collapsed": false
   },
   "outputs": [],
   "source": [
    "import CustomerLifetimeValue as CLV"
   ]
  },
  {
   "cell_type": "markdown",
   "metadata": {
    "ExecuteTime": {
     "end_time": "2016-04-14T09:02:02.210368",
     "start_time": "2016-04-14T09:02:02.208175"
    }
   },
   "source": [
    "## Computing CLV"
   ]
  },
  {
   "cell_type": "code",
   "execution_count": 6,
   "metadata": {
    "ExecuteTime": {
     "end_time": "2016-04-15T00:03:30.960757",
     "start_time": "2016-04-15T00:03:29.073850"
    },
    "collapsed": false
   },
   "outputs": [
    {
     "data": {
      "text/html": [
       "<div style=\"max-height:1000px;max-width:1500px;overflow:auto;\"><table frame=\"box\" rules=\"cols\">\n",
       "    <tr>\n",
       "        <th style=\"padding-left: 1em; padding-right: 1em; text-align: center\">CustomerID</th>\n",
       "        <th style=\"padding-left: 1em; padding-right: 1em; text-align: center\">CLV</th>\n",
       "        <th style=\"padding-left: 1em; padding-right: 1em; text-align: center\">Lifetime</th>\n",
       "    </tr>\n",
       "    <tr>\n",
       "        <td style=\"padding-left: 1em; padding-right: 1em; text-align: center; vertical-align: top\">16257</td>\n",
       "        <td style=\"padding-left: 1em; padding-right: 1em; text-align: center; vertical-align: top\">7.0425</td>\n",
       "        <td style=\"padding-left: 1em; padding-right: 1em; text-align: center; vertical-align: top\">1</td>\n",
       "    </tr>\n",
       "    <tr>\n",
       "        <td style=\"padding-left: 1em; padding-right: 1em; text-align: center; vertical-align: top\">14406</td>\n",
       "        <td style=\"padding-left: 1em; padding-right: 1em; text-align: center; vertical-align: top\">23.5125</td>\n",
       "        <td style=\"padding-left: 1em; padding-right: 1em; text-align: center; vertical-align: top\">1</td>\n",
       "    </tr>\n",
       "    <tr>\n",
       "        <td style=\"padding-left: 1em; padding-right: 1em; text-align: center; vertical-align: top\">13518</td>\n",
       "        <td style=\"padding-left: 1em; padding-right: 1em; text-align: center; vertical-align: top\">98.916</td>\n",
       "        <td style=\"padding-left: 1em; padding-right: 1em; text-align: center; vertical-align: top\">1</td>\n",
       "    </tr>\n",
       "    <tr>\n",
       "        <td style=\"padding-left: 1em; padding-right: 1em; text-align: center; vertical-align: top\">16498</td>\n",
       "        <td style=\"padding-left: 1em; padding-right: 1em; text-align: center; vertical-align: top\">12.918</td>\n",
       "        <td style=\"padding-left: 1em; padding-right: 1em; text-align: center; vertical-align: top\">1</td>\n",
       "    </tr>\n",
       "    <tr>\n",
       "        <td style=\"padding-left: 1em; padding-right: 1em; text-align: center; vertical-align: top\">16820</td>\n",
       "        <td style=\"padding-left: 1em; padding-right: 1em; text-align: center; vertical-align: top\">74.6415</td>\n",
       "        <td style=\"padding-left: 1em; padding-right: 1em; text-align: center; vertical-align: top\">1</td>\n",
       "    </tr>\n",
       "    <tr>\n",
       "        <td style=\"padding-left: 1em; padding-right: 1em; text-align: center; vertical-align: top\">18126</td>\n",
       "        <td style=\"padding-left: 1em; padding-right: 1em; text-align: center; vertical-align: top\">31.0245</td>\n",
       "        <td style=\"padding-left: 1em; padding-right: 1em; text-align: center; vertical-align: top\">1</td>\n",
       "    </tr>\n",
       "    <tr>\n",
       "        <td style=\"padding-left: 1em; padding-right: 1em; text-align: center; vertical-align: top\">17325</td>\n",
       "        <td style=\"padding-left: 1em; padding-right: 1em; text-align: center; vertical-align: top\">14.52</td>\n",
       "        <td style=\"padding-left: 1em; padding-right: 1em; text-align: center; vertical-align: top\">1</td>\n",
       "    </tr>\n",
       "    <tr>\n",
       "        <td style=\"padding-left: 1em; padding-right: 1em; text-align: center; vertical-align: top\">16284</td>\n",
       "        <td style=\"padding-left: 1em; padding-right: 1em; text-align: center; vertical-align: top\">123.5955</td>\n",
       "        <td style=\"padding-left: 1em; padding-right: 1em; text-align: center; vertical-align: top\">1</td>\n",
       "    </tr>\n",
       "    <tr>\n",
       "        <td style=\"padding-left: 1em; padding-right: 1em; text-align: center; vertical-align: top\">17534</td>\n",
       "        <td style=\"padding-left: 1em; padding-right: 1em; text-align: center; vertical-align: top\">33.504</td>\n",
       "        <td style=\"padding-left: 1em; padding-right: 1em; text-align: center; vertical-align: top\">1</td>\n",
       "    </tr>\n",
       "    <tr>\n",
       "        <td style=\"padding-left: 1em; padding-right: 1em; text-align: center; vertical-align: top\">15062</td>\n",
       "        <td style=\"padding-left: 1em; padding-right: 1em; text-align: center; vertical-align: top\">148.179</td>\n",
       "        <td style=\"padding-left: 1em; padding-right: 1em; text-align: center; vertical-align: top\">10</td>\n",
       "    </tr>\n",
       "</table>\n",
       "[? rows x 3 columns]<br/>Note: Only the head of the SFrame is printed. This SFrame is lazily evaluated.<br/>You can use len(sf) to force materialization.\n",
       "</div>"
      ],
      "text/plain": [
       "Columns:\n",
       "\tCustomerID\tint\n",
       "\tCLV\tfloat\n",
       "\tLifetime\tint\n",
       "\n",
       "Rows: Unknown\n",
       "\n",
       "Data:\n",
       "+------------+----------+----------+\n",
       "| CustomerID |   CLV    | Lifetime |\n",
       "+------------+----------+----------+\n",
       "|   16257    |  7.0425  |    1     |\n",
       "|   14406    | 23.5125  |    1     |\n",
       "|   13518    |  98.916  |    1     |\n",
       "|   16498    |  12.918  |    1     |\n",
       "|   16820    | 74.6415  |    1     |\n",
       "|   18126    | 31.0245  |    1     |\n",
       "|   17325    |  14.52   |    1     |\n",
       "|   16284    | 123.5955 |    1     |\n",
       "|   17534    |  33.504  |    1     |\n",
       "|   15062    | 148.179  |    10    |\n",
       "+------------+----------+----------+\n",
       "[? rows x 3 columns]\n",
       "Note: Only the head of the SFrame is printed. This SFrame is lazily evaluated.\n",
       "You can use len(sf) to force materialization."
      ]
     },
     "execution_count": 6,
     "metadata": {},
     "output_type": "execute_result"
    }
   ],
   "source": [
    "churned, active = CLV.calculate(sf, 'InvoiceDate', 'CustomerID', 'Profit' )\n",
    "churned"
   ]
  },
  {
   "cell_type": "code",
   "execution_count": 7,
   "metadata": {
    "ExecuteTime": {
     "end_time": "2016-04-15T00:03:35.642360",
     "start_time": "2016-04-15T00:03:35.601749"
    },
    "collapsed": false
   },
   "outputs": [
    {
     "data": {
      "text/html": [
       "<div style=\"max-height:1000px;max-width:1500px;overflow:auto;\"><table frame=\"box\" rules=\"cols\">\n",
       "    <tr>\n",
       "        <th style=\"padding-left: 1em; padding-right: 1em; text-align: center\">CustomerID</th>\n",
       "        <th style=\"padding-left: 1em; padding-right: 1em; text-align: center\">Profit</th>\n",
       "        <th style=\"padding-left: 1em; padding-right: 1em; text-align: center\">Lifetime</th>\n",
       "    </tr>\n",
       "    <tr>\n",
       "        <td style=\"padding-left: 1em; padding-right: 1em; text-align: center; vertical-align: top\">13050</td>\n",
       "        <td style=\"padding-left: 1em; padding-right: 1em; text-align: center; vertical-align: top\">852.6915</td>\n",
       "        <td style=\"padding-left: 1em; padding-right: 1em; text-align: center; vertical-align: top\">12</td>\n",
       "    </tr>\n",
       "    <tr>\n",
       "        <td style=\"padding-left: 1em; padding-right: 1em; text-align: center; vertical-align: top\">14515</td>\n",
       "        <td style=\"padding-left: 1em; padding-right: 1em; text-align: center; vertical-align: top\">315.3135</td>\n",
       "        <td style=\"padding-left: 1em; padding-right: 1em; text-align: center; vertical-align: top\">7</td>\n",
       "    </tr>\n",
       "    <tr>\n",
       "        <td style=\"padding-left: 1em; padding-right: 1em; text-align: center; vertical-align: top\">17885</td>\n",
       "        <td style=\"padding-left: 1em; padding-right: 1em; text-align: center; vertical-align: top\">28.5285</td>\n",
       "        <td style=\"padding-left: 1em; padding-right: 1em; text-align: center; vertical-align: top\">1</td>\n",
       "    </tr>\n",
       "    <tr>\n",
       "        <td style=\"padding-left: 1em; padding-right: 1em; text-align: center; vertical-align: top\">13560</td>\n",
       "        <td style=\"padding-left: 1em; padding-right: 1em; text-align: center; vertical-align: top\">26.1555</td>\n",
       "        <td style=\"padding-left: 1em; padding-right: 1em; text-align: center; vertical-align: top\">1</td>\n",
       "    </tr>\n",
       "    <tr>\n",
       "        <td style=\"padding-left: 1em; padding-right: 1em; text-align: center; vertical-align: top\">15863</td>\n",
       "        <td style=\"padding-left: 1em; padding-right: 1em; text-align: center; vertical-align: top\">10.326</td>\n",
       "        <td style=\"padding-left: 1em; padding-right: 1em; text-align: center; vertical-align: top\">6</td>\n",
       "    </tr>\n",
       "    <tr>\n",
       "        <td style=\"padding-left: 1em; padding-right: 1em; text-align: center; vertical-align: top\">14388</td>\n",
       "        <td style=\"padding-left: 1em; padding-right: 1em; text-align: center; vertical-align: top\">475.806</td>\n",
       "        <td style=\"padding-left: 1em; padding-right: 1em; text-align: center; vertical-align: top\">13</td>\n",
       "    </tr>\n",
       "    <tr>\n",
       "        <td style=\"padding-left: 1em; padding-right: 1em; text-align: center; vertical-align: top\">16200</td>\n",
       "        <td style=\"padding-left: 1em; padding-right: 1em; text-align: center; vertical-align: top\">162.093</td>\n",
       "        <td style=\"padding-left: 1em; padding-right: 1em; text-align: center; vertical-align: top\">6</td>\n",
       "    </tr>\n",
       "    <tr>\n",
       "        <td style=\"padding-left: 1em; padding-right: 1em; text-align: center; vertical-align: top\">14897</td>\n",
       "        <td style=\"padding-left: 1em; padding-right: 1em; text-align: center; vertical-align: top\">204.957</td>\n",
       "        <td style=\"padding-left: 1em; padding-right: 1em; text-align: center; vertical-align: top\">10</td>\n",
       "    </tr>\n",
       "    <tr>\n",
       "        <td style=\"padding-left: 1em; padding-right: 1em; text-align: center; vertical-align: top\">17338</td>\n",
       "        <td style=\"padding-left: 1em; padding-right: 1em; text-align: center; vertical-align: top\">991.827</td>\n",
       "        <td style=\"padding-left: 1em; padding-right: 1em; text-align: center; vertical-align: top\">12</td>\n",
       "    </tr>\n",
       "    <tr>\n",
       "        <td style=\"padding-left: 1em; padding-right: 1em; text-align: center; vertical-align: top\">15615</td>\n",
       "        <td style=\"padding-left: 1em; padding-right: 1em; text-align: center; vertical-align: top\">1554.006</td>\n",
       "        <td style=\"padding-left: 1em; padding-right: 1em; text-align: center; vertical-align: top\">12</td>\n",
       "    </tr>\n",
       "</table>\n",
       "[? rows x 3 columns]<br/>Note: Only the head of the SFrame is printed. This SFrame is lazily evaluated.<br/>You can use len(sf) to force materialization.\n",
       "</div>"
      ],
      "text/plain": [
       "Columns:\n",
       "\tCustomerID\tint\n",
       "\tProfit\tfloat\n",
       "\tLifetime\tint\n",
       "\n",
       "Rows: Unknown\n",
       "\n",
       "Data:\n",
       "+------------+----------+----------+\n",
       "| CustomerID |  Profit  | Lifetime |\n",
       "+------------+----------+----------+\n",
       "|   13050    | 852.6915 |    12    |\n",
       "|   14515    | 315.3135 |    7     |\n",
       "|   17885    | 28.5285  |    1     |\n",
       "|   13560    | 26.1555  |    1     |\n",
       "|   15863    |  10.326  |    6     |\n",
       "|   14388    | 475.806  |    13    |\n",
       "|   16200    | 162.093  |    6     |\n",
       "|   14897    | 204.957  |    10    |\n",
       "|   17338    | 991.827  |    12    |\n",
       "|   15615    | 1554.006 |    12    |\n",
       "+------------+----------+----------+\n",
       "[? rows x 3 columns]\n",
       "Note: Only the head of the SFrame is printed. This SFrame is lazily evaluated.\n",
       "You can use len(sf) to force materialization."
      ]
     },
     "execution_count": 7,
     "metadata": {},
     "output_type": "execute_result"
    }
   ],
   "source": [
    "active"
   ]
  },
  {
   "cell_type": "markdown",
   "metadata": {
    "heading_collapsed": true
   },
   "source": [
    "### Testing\n",
    "Basic logical tests of CLV calculation"
   ]
  },
  {
   "cell_type": "code",
   "execution_count": 8,
   "metadata": {
    "ExecuteTime": {
     "end_time": "2016-04-15T00:03:41.971997",
     "start_time": "2016-04-15T00:03:41.889947"
    },
    "collapsed": false,
    "hidden": true
   },
   "outputs": [
    {
     "name": "stdout",
     "output_type": "stream",
     "text": [
      "Number of customers: Churned 2677 + Active 1696 == Total is True\n"
     ]
    }
   ],
   "source": [
    "print 'Number of customers: Churned {} + Active {} == Total is {}'. format(len(churned), len(active), len(churned) + len(active) == len(sf['CustomerID'].unique()))"
   ]
  },
  {
   "cell_type": "code",
   "execution_count": 9,
   "metadata": {
    "ExecuteTime": {
     "end_time": "2016-04-15T00:03:43.425611",
     "start_time": "2016-04-15T00:03:43.398115"
    },
    "collapsed": false,
    "hidden": true
   },
   "outputs": [
    {
     "name": "stdout",
     "output_type": "stream",
     "text": [
      "Sum of profit: Churned ($346,938.72)  + Active ($1,115,223.47) == Total ($1,462,162.19) is True\n"
     ]
    }
   ],
   "source": [
    "print 'Sum of profit: Churned (${:4,.2f})  + Active (${:4,.2f}) == Total (${:4,.2f}) is {}'.format( churned['CLV'].sum(), active['Profit'].sum(), sf['Profit'].sum(),\n",
    "                                                                                                  abs(churned['CLV'].sum() + active['Profit'].sum() - sf['Profit'].sum()) < 1e-06)"
   ]
  },
  {
   "cell_type": "markdown",
   "metadata": {},
   "source": [
    "### Ploting "
   ]
  },
  {
   "cell_type": "code",
   "execution_count": 10,
   "metadata": {
    "ExecuteTime": {
     "end_time": "2016-04-15T00:03:52.443040",
     "start_time": "2016-04-15T00:03:51.775599"
    },
    "collapsed": false
   },
   "outputs": [
    {
     "data": {
      "text/plain": [
       "<matplotlib.axes._subplots.AxesSubplot at 0x7f69680c5390>"
      ]
     },
     "execution_count": 10,
     "metadata": {},
     "output_type": "execute_result"
    },
    {
     "data": {
      "image/png": "[encoded data removed]",
      "text/plain": [
       "<matplotlib.figure.Figure at 0x7f69680f3a90>"
      ]
     },
     "metadata": {},
     "output_type": "display_data"
    }
   ],
   "source": [
    "f, (ax1, ax2) = plt.subplots(2, 1)\n",
    "sns.distplot(churned['Lifetime'], bins=12, ax=ax1)\n",
    "sns.distplot(active['Lifetime'], bins=50, ax=ax1)\n",
    "sns.distplot(churned['CLV'], bins=50,  ax=ax2)"
   ]
  },
  {
   "cell_type": "markdown",
   "metadata": {},
   "source": [
    "## Predictive modeling"
   ]
  },
  {
   "cell_type": "code",
   "execution_count": 11,
   "metadata": {
    "ExecuteTime": {
     "end_time": "2016-04-15T00:04:11.733569",
     "start_time": "2016-04-15T00:04:08.964117"
    },
    "collapsed": false
   },
   "outputs": [
    {
     "name": "stdout",
     "output_type": "stream",
     "text": [
      "+-----------+-----------+---------------+----------+---------------------+-----------+------------+----------------+--------+--------+\n",
      "| InvoiceNo | StockCode |  Description  | Quantity |     InvoiceDate     | UnitPrice | CustomerID |    Country     | Profit | Period |\n",
      "+-----------+-----------+---------------+----------+---------------------+-----------+------------+----------------+--------+--------+\n",
      "|   565127  |   79321   | CHILLI LIGHTS |    24    | 2011-09-01 12:28:00 |    4.95   |   13147    | United Kingdom | 17.82  |   1    |\n",
      "|   573129  |   79321   | CHILLI LIGHTS |    24    | 2011-10-27 16:35:00 |    4.95   |   13147    | United Kingdom | 17.82  |   2    |\n",
      "|   575205  |   79321   | CHILLI LIGHTS |    48    | 2011-11-09 10:18:00 |    4.95   |   13147    | United Kingdom | 35.64  |   3    |\n",
      "|   579451  |   79321   | CHILLI LIGHTS |    48    | 2011-11-29 13:59:00 |    4.95   |   13147    | United Kingdom | 35.64  |   3    |\n",
      "+-----------+-----------+---------------+----------+---------------------+-----------+------------+----------------+--------+--------+\n",
      "[4 rows x 10 columns]\n",
      "\n"
     ]
    }
   ],
   "source": [
    "sf['Period'] = CLV.period(sf, 'InvoiceDate', 'CustomerID')\n",
    "sf.filter_by(13147, 'CustomerID').print_rows(50,max_row_width=200 )"
   ]
  },
  {
   "cell_type": "code",
   "execution_count": 12,
   "metadata": {
    "ExecuteTime": {
     "end_time": "2016-04-15T00:04:19.687220",
     "start_time": "2016-04-15T00:04:16.348461"
    },
    "collapsed": true
   },
   "outputs": [
    {
     "name": "stdout",
     "output_type": "stream",
     "text": [
      "+------------+--------------------------+--------------------------+--------------------------+----------+----------+--------------------------+-----+----------+\n",
      "| CustomerID |        Purchases         |      Txs_by_period       |    Quantity_by_period    |   CLV    | Lifetime |     Profit_by_period     | Txs | Quantity |\n",
      "+------------+--------------------------+--------------------------+--------------------------+----------+----------+--------------------------+-----+----------+\n",
      "|   16257    |       [84629, C2]        |          {1: 2}          |          {1: 2}          |  7.0425  |    1     |       {1: 7.0425}        |  2  |    2     |\n",
      "|   14406    | [21742, 22487, 23203,... |          {1: 8}          |         {1: 77}          | 23.5125  |    1     | {1: 23.512500000000003}  |  8  |    77    |\n",
      "|   13518    | [22548, 23201, 22622,... |         {1: 38}          |         {1: 392}         |  98.916  |    1     |  {1: 98.91600000000001}  |  38 |   392    |\n",
      "|   16498    | [21523, 22982, 23167,... |         {1: 16}          |         {1: 42}          |  12.918  |    1     | {1: 12.918000000000001}  |  16 |    42    |\n",
      "|   16820    | [22548, 23201, 22561,... |         {1: 26}          |         {1: 307}         | 74.6415  |    1     |  {1: 74.64150000000001}  |  26 |   307    |\n",
      "|   18126    | [47480, 47481, 23322,... |         {1: 56}          |         {1: 144}         | 31.0245  |    1     | {1: 31.024500000000003}  |  56 |   144    |\n",
      "|   17325    | [21114, 20725, 22759,... |          {1: 6}          |         {1: 60}          |  14.52   |    1     | {1: 14.519999999999998}  |  6  |    60    |\n",
      "|   16284    | [23202, 23510, 22178,... |         {1: 109}         |         {1: 544}         | 123.5955 |    1     | {1: 123.59549999999994}  | 109 |   544    |\n",
      "|   17534    | [21174, 22114, 22986,... |          {1: 9}          |         {1: 103}         |  33.504  |    1     |       {1: 33.504}        |  9  |   103    |\n",
      "|   15062    | [23201, 22566, 22565,... | {1: 11, 10: 12, 3: 13... | {1: 164, 10: 222, 3: ... | 148.179  |    10    | {1: 31.362, 10: 26.07... |  57 |   763    |\n",
      "|   12446    | [23201, 20676, 23203,... |         {1: 58}          |         {1: 352}         | 150.3465 |    1     | {1: 150.34649999999996}  |  58 |   352    |\n",
      "|   17898    | [22440, 22971, 21378,... |      {1: 20, 5: 8}       |     {1: 124, 5: 66}      |  22.809  |    5     | {1: 14.97599999999999... |  28 |   190    |\n",
      "|   13132    |  [22041, 22168, 21137]   |          {1: 3}          |         {1: 20}          |  11.595  |    1     | {1: 11.594999999999999}  |  3  |    20    |\n",
      "|   15836    | [22627, 84879, 21770,... |         {1: 12}          |         {1: 24}          | 17.6205  |    1     |       {1: 17.6205}       |  12 |    24    |\n",
      "|   12928    | [23201, 23202, 23203,... | {8: 16, 1: 17, 11: 30... | {8: 204, 1: 250, 11: ... | 309.405  |    11    | {8: 53.415, 1: 58.851... |  84 |   1472   |\n",
      "|   16619    | [22493, 22502, 22558,... |         {1: 16}          |         {1: 129}         | 30.6615  |    1     | {1: 30.661499999999993}  |  16 |   129    |\n",
      "|   15663    | [23333, 21115, 90211A... |          {1: 9}          |         {1: 106}         |  20.721  |    1     | {1: 20.720999999999997}  |  9  |   106    |\n",
      "|   16370    | [23200, 20914, 22507,... | {1: 63, 2: 46, 4: 71,... | {1: 169, 2: 158, 4: 1... | 198.084  |    5     | {1: 41.33100000000002... | 228 |   647    |\n",
      "|   18226    | [23202, 23203, 23206,... | {1: 22, 3: 22, 4: 36,... | {1: 365, 3: 235, 4: 7... | 778.815  |    10    | {1: 61.9575, 3: 64.20... | 245 |   3459   |\n",
      "|   17140    | [22456, 22358, 21770,... |         {1: 20}          |         {1: 302}         |  69.798  |    1     |       {1: 69.798}        |  20 |   302    |\n",
      "|   16718    | [22560, 22034, 35598B... |         {1: 45}          |         {1: 413}         | 93.5625  |    1     |       {1: 93.5625}       |  45 |   413    |\n",
      "|   17035    | [20675, 20676, 47566,... |      {1: 22, 3: 10}      |     {1: 115, 3: 86}      | 58.2495  |    3     | {1: 32.1465, 3: 26.103}  |  32 |   201    |\n",
      "|   16754    |      [84077, 21915]      |          {1: 2}          |        {1: 4280}         |  300.36  |    1     |       {1: 300.36}        |  2  |   4280   |\n",
      "|   14981    | [21980, 22614, 21156,... |          {1: 8}          |         {1: 97}          |  15.318  |    1     |       {1: 15.318}        |  8  |    97    |\n",
      "|   16222    | [22777, 21908, 22507,... |         {1: 137}         |         {1: 365}         | 127.008  |    1     |       {1: 127.008}       | 137 |   365    |\n",
      "|   16249    | [23323, 23322, 22111,... | {1: 22, 2: 5, 4: 18, ... | {1: 441, 2: 46, 4: 19... | 270.0105 |    7     | {1: 122.2245000000000... |  69 |   950    |\n",
      "|   17169    | [23323, 22624, 22469,... |      {1: 21, 5: 39}      |     {1: 99, 5: 420}      | 122.532  |    5     | {1: 44.46449999999999... |  60 |   519    |\n",
      "|   15201    | [23203, 21213, 22544,... | {1: 23, 2: 22, 5: 17,... | {1: 301, 2: 346, 5: 2... | 139.176  |    6     | {1: 43.89449999999999... |  97 |   962    |\n",
      "|   15655    | [22117, 21668, 22775,... |         {1: 37}          |         {1: 319}         |  76.698  |    1     |       {1: 76.698}        |  37 |   319    |\n",
      "|   12732    | [21240, 21239, 21238,... |         {1: 12}          |         {1: 111}         |  35.439  |    1     |       {1: 35.439}        |  12 |   111    |\n",
      "|   13194    |  [21382, 22457, 22779]   |          {1: 3}          |         {1: 26}          |  9.105   |    1     |        {1: 9.105}        |  3  |    26    |\n",
      "|   15147    | [22502, 48138, 20750,... |         {1: 29}          |         {1: 363}         | 91.2975  |    1     |  {1: 91.29749999999999}  |  29 |   363    |\n",
      "|   12601    | [84832, 21314, 22984,... |   {1: 15, 3: 3, 5: 11}   |  {1: 138, 3: 49, 5: 57}  |  85.434  |    5     | {1: 38.604, 3: 16.650... |  29 |   244    |\n",
      "|   14625    | [21484, 21351, 22625,... |   {1: 36, 6: 19, 7: 2}   |  {1: 252, 6: 80, 7: -2}  | 127.272  |    7     | {1: 82.182, 6: 47.115... |  57 |   330    |\n",
      "|   13242    | [23200, 23201, 23202,... |       {1: 5, 4: 8}       |      {1: 50, 4: 80}      |  40.56   |    4     | {1: 15.60000000000000... |  13 |   130    |\n",
      "|   13524    | [21642, 22637, 21231,... | {1: 9, 2: 3, 4: 6, 5:... | {1: 100, 2: 30, 4: 57... | 102.027  |    6     | {1: 23.88000000000000... |  27 |   324    |\n",
      "|   16803    | [22568, 47566, 22813,... |         {1: 24}          |         {1: 245}         |  49.845  |    1     |       {1: 49.845}        |  24 |   245    |\n",
      "|   12360    | [20674, 20675, 20676,... |  {1: 45, 3: 30, 5: 54}   | {1: 434, 3: 240, 5: 491} | 399.309  |    5     | {1: 162.5369999999999... | 129 |   1165   |\n",
      "|   15299    | [84950, 22113, D, 211... | {1: 3, 3: 1, 4: 1, 5:... | {1: 2097, 3: -1, 4: 4... | 568.0635 |    11    | {1: 275.2514999999999... |  12 |   2940   |\n",
      "|   15835    | [23200, 23202, 22568,... | {1: 15, 10: 15, 3: 11... | {1: 155, 10: 106, 3: ... | 143.1135 |    10    | {1: 45.1665, 10: 41.7... |  50 |   439    |\n",
      "|   16546    | [22933, 22737, 22130,... |      {1: 12, 3: 19}      |    {1: -696, 3: 393}     | -14.3895 |    3     | {1: -87.5519999999999... |  31 |   -303   |\n",
      "|   18280    | [22495, 22358, 22467,... |         {1: 10}          |         {1: 45}          |  27.09   |    1     | {1: 27.090000000000003}  |  10 |    45    |\n",
      "|   16692    |      [POST, 21621]       |       {1: 1, 2: 2}       |      {1: 1, 2: 151}      |  191.4   |    2     |  {1: 1.275, 2: 190.125}  |  3  |   152    |\n",
      "|   15068    | [22174, 21270, 22667,... |      {8: 65, 1: 39}      |     {8: 234, 1: 130}     |  83.004  |    8     | {8: 47.00999999999998... | 104 |   364    |\n",
      "|   16256    | [21977, 21212, 21380,... |         {1: 14}          |         {1: 577}         | 109.8945 |    1     |      {1: 109.8945}       |  14 |   577    |\n",
      "|   13227    | [23201, 23202, 22379,... |          {1: 9}          |         {1: 99}          |  38.655  |    1     |       {1: 38.655}        |  9  |    99    |\n",
      "|   16477    | [22505, 22379, 23206,... | {1: 33, 2: 26, 4: 13,... | {1: 318, 2: 223, 4: 1... | 374.169  |    11    | {1: 81.66000000000001... | 146 |   1415   |\n",
      "|   15121    | [22621, 21621, 23486,... |      {8: 10, 1: 18}      |     {8: 74, 1: 125}      |  68.658  |    8     | {8: 24.3855, 1: 44.2725} |  28 |   199    |\n",
      "|   16727    | [22621, 22560, 22568,... |         {1: 46}          |         {1: 177}         |  40.923  |    1     |  {1: 40.92300000000001}  |  46 |   177    |\n",
      "|   17696    | [22507, 17084R, 22035... | {1: 8, 3: 16, 6: 13, ... | {1: 87, 3: 301, 6: 15... | 330.1575 |    11    | {1: 25.5975, 3: 47.73... | 126 |   1730   |\n",
      "+------------+--------------------------+--------------------------+--------------------------+----------+----------+--------------------------+-----+----------+\n",
      "[2677 rows x 9 columns]\n",
      "\n"
     ]
    }
   ],
   "source": [
    "train, test = CLV.features(sf, 'InvoiceDate', 'CustomerID', 'Profit')\n",
    "train.print_rows(50,max_column_width=25, max_row_width=200 )\n",
    "train, validate = train.random_split(0.8, seed=12345678)"
   ]
  },
  {
   "cell_type": "code",
   "execution_count": 13,
   "metadata": {
    "ExecuteTime": {
     "end_time": "2016-04-15T00:04:35.531592",
     "start_time": "2016-04-15T00:04:35.528260"
    },
    "collapsed": false
   },
   "outputs": [],
   "source": [
    "all_features = set(train.column_names())-set(['CLV'])\n",
    "features = set(train.column_names())-set(['Purchases', 'CLV'])"
   ]
  },
  {
   "cell_type": "markdown",
   "metadata": {
    "ExecuteTime": {
     "end_time": "2016-04-14T23:59:53.172535",
     "start_time": "2016-04-14T23:59:53.054258"
    },
    "heading_collapsed": true
   },
   "source": [
    "### Boosted Trees\n",
    "Gets best validation RMS of 86.3688 at 8 iteration when using all_features. Interesting to see if more data helps"
   ]
  },
  {
   "cell_type": "code",
   "execution_count": 26,
   "metadata": {
    "ExecuteTime": {
     "end_time": "2016-04-15T00:09:18.910775",
     "start_time": "2016-04-15T00:09:18.621485"
    },
    "collapsed": false,
    "hidden": true
   },
   "outputs": [
    {
     "data": {
      "text/html": [
       "<pre>WARNING: The number of feature dimensions in this problem is very large in comparison with the number of examples. Unless an appropriate regularization value is set, this model may not provide accurate predictions for a validation/test set.</pre>"
      ],
      "text/plain": [
       "WARNING: The number of feature dimensions in this problem is very large in comparison with the number of examples. Unless an appropriate regularization value is set, this model may not provide accurate predictions for a validation/test set."
      ]
     },
     "metadata": {},
     "output_type": "display_data"
    },
    {
     "data": {
      "text/html": [
       "<pre>Boosted trees regression:</pre>"
      ],
      "text/plain": [
       "Boosted trees regression:"
      ]
     },
     "metadata": {},
     "output_type": "display_data"
    },
    {
     "data": {
      "text/html": [
       "<pre>--------------------------------------------------------</pre>"
      ],
      "text/plain": [
       "--------------------------------------------------------"
      ]
     },
     "metadata": {},
     "output_type": "display_data"
    },
    {
     "data": {
      "text/html": [
       "<pre>Number of examples          : 2124</pre>"
      ],
      "text/plain": [
       "Number of examples          : 2124"
      ]
     },
     "metadata": {},
     "output_type": "display_data"
    },
    {
     "data": {
      "text/html": [
       "<pre>Number of features          : 8</pre>"
      ],
      "text/plain": [
       "Number of features          : 8"
      ]
     },
     "metadata": {},
     "output_type": "display_data"
    },
    {
     "data": {
      "text/html": [
       "<pre>Number of unpacked features : 41</pre>"
      ],
      "text/plain": [
       "Number of unpacked features : 41"
      ]
     },
     "metadata": {},
     "output_type": "display_data"
    },
    {
     "data": {
      "text/html": [
       "<pre>+-----------+--------------+--------------------+---------------+----------------------+-----------------+</pre>"
      ],
      "text/plain": [
       "+-----------+--------------+--------------------+---------------+----------------------+-----------------+"
      ]
     },
     "metadata": {},
     "output_type": "display_data"
    },
    {
     "data": {
      "text/html": [
       "<pre>| Iteration | Elapsed Time | Training-max_error | Training-rmse | Validation-max_error | Validation-rmse |</pre>"
      ],
      "text/plain": [
       "| Iteration | Elapsed Time | Training-max_error | Training-rmse | Validation-max_error | Validation-rmse |"
      ]
     },
     "metadata": {},
     "output_type": "display_data"
    },
    {
     "data": {
      "text/html": [
       "<pre>+-----------+--------------+--------------------+---------------+----------------------+-----------------+</pre>"
      ],
      "text/plain": [
       "+-----------+--------------+--------------------+---------------+----------------------+-----------------+"
      ]
     },
     "metadata": {},
     "output_type": "display_data"
    },
    {
     "data": {
      "text/html": [
       "<pre>| 1         | 0.007408     | 6619.778320        | 215.528610    | 3119.498779          | 220.649094      |</pre>"
      ],
      "text/plain": [
       "| 1         | 0.007408     | 6619.778320        | 215.528610    | 3119.498779          | 220.649094      |"
      ]
     },
     "metadata": {},
     "output_type": "display_data"
    },
    {
     "data": {
      "text/html": [
       "<pre>| 2         | 0.014297     | 5626.811523        | 171.281036    | 3046.736816          | 188.215561      |</pre>"
      ],
      "text/plain": [
       "| 2         | 0.014297     | 5626.811523        | 171.281036    | 3046.736816          | 188.215561      |"
      ]
     },
     "metadata": {},
     "output_type": "display_data"
    },
    {
     "data": {
      "text/html": [
       "<pre>| 3         | 0.020827     | 4782.790039        | 138.429550    | 2202.715088          | 147.985291      |</pre>"
      ],
      "text/plain": [
       "| 3         | 0.020827     | 4782.790039        | 138.429550    | 2202.715088          | 147.985291      |"
      ]
     },
     "metadata": {},
     "output_type": "display_data"
    },
    {
     "data": {
      "text/html": [
       "<pre>| 4         | 0.027875     | 4065.371338        | 113.661575    | 1485.296631          | 120.815224      |</pre>"
      ],
      "text/plain": [
       "| 4         | 0.027875     | 4065.371338        | 113.661575    | 1485.296631          | 120.815224      |"
      ]
     },
     "metadata": {},
     "output_type": "display_data"
    },
    {
     "data": {
      "text/html": [
       "<pre>| 5         | 0.035237     | 3455.565430        | 94.437248     | 875.490967           | 102.306671      |</pre>"
      ],
      "text/plain": [
       "| 5         | 0.035237     | 3455.565430        | 94.437248     | 875.490967           | 102.306671      |"
      ]
     },
     "metadata": {},
     "output_type": "display_data"
    },
    {
     "data": {
      "text/html": [
       "<pre>| 6         | 0.041423     | 2937.230469        | 79.170319     | 826.039673           | 91.374214       |</pre>"
      ],
      "text/plain": [
       "| 6         | 0.041423     | 2937.230469        | 79.170319     | 826.039673           | 91.374214       |"
      ]
     },
     "metadata": {},
     "output_type": "display_data"
    },
    {
     "data": {
      "text/html": [
       "<pre>| 11        | 0.071000     | 1303.264648        | 37.229671     | 1276.809326          | 94.913429       |</pre>"
      ],
      "text/plain": [
       "| 11        | 0.071000     | 1303.264648        | 37.229671     | 1276.809326          | 94.913429       |"
      ]
     },
     "metadata": {},
     "output_type": "display_data"
    },
    {
     "data": {
      "text/html": [
       "<pre>+-----------+--------------+--------------------+---------------+----------------------+-----------------+</pre>"
      ],
      "text/plain": [
       "+-----------+--------------+--------------------+---------------+----------------------+-----------------+"
      ]
     },
     "metadata": {},
     "output_type": "display_data"
    },
    {
     "data": {
      "text/html": [
       "<pre>Early stop triggered. Returning the best model at iteration: 8</pre>"
      ],
      "text/plain": [
       "Early stop triggered. Returning the best model at iteration: 8"
      ]
     },
     "metadata": {},
     "output_type": "display_data"
    }
   ],
   "source": [
    "features = set(train.column_names())-set(['Purchases', 'CLV'])\n",
    "clv_GBT_all = gl.boosted_trees_regression.create(train, target='CLV', features = all_features, validation_set=validate, max_iterations=100, early_stopping_rounds=10, max_depth=6,)"
   ]
  },
  {
   "cell_type": "code",
   "execution_count": 32,
   "metadata": {
    "ExecuteTime": {
     "end_time": "2016-04-15T00:12:10.647527",
     "start_time": "2016-04-15T00:12:10.639241"
    },
    "collapsed": false,
    "hidden": true
   },
   "outputs": [
    {
     "name": "stdout",
     "output_type": "stream",
     "text": [
      "86.368850708 127.695079379 243.813790414\n"
     ]
    }
   ],
   "source": [
    "print clv_GBT_all.validation_rmse, train['CLV'].mean(), train['CLV'].std()"
   ]
  },
  {
   "cell_type": "code",
   "execution_count": 28,
   "metadata": {
    "ExecuteTime": {
     "end_time": "2016-04-15T00:09:40.911458",
     "start_time": "2016-04-15T00:09:40.785615"
    },
    "collapsed": true,
    "hidden": true
   },
   "outputs": [
    {
     "data": {
      "text/html": [
       "<pre>Boosted trees regression:</pre>"
      ],
      "text/plain": [
       "Boosted trees regression:"
      ]
     },
     "metadata": {},
     "output_type": "display_data"
    },
    {
     "data": {
      "text/html": [
       "<pre>--------------------------------------------------------</pre>"
      ],
      "text/plain": [
       "--------------------------------------------------------"
      ]
     },
     "metadata": {},
     "output_type": "display_data"
    },
    {
     "data": {
      "text/html": [
       "<pre>Number of examples          : 2124</pre>"
      ],
      "text/plain": [
       "Number of examples          : 2124"
      ]
     },
     "metadata": {},
     "output_type": "display_data"
    },
    {
     "data": {
      "text/html": [
       "<pre>Number of features          : 7</pre>"
      ],
      "text/plain": [
       "Number of features          : 7"
      ]
     },
     "metadata": {},
     "output_type": "display_data"
    },
    {
     "data": {
      "text/html": [
       "<pre>Number of unpacked features : 40</pre>"
      ],
      "text/plain": [
       "Number of unpacked features : 40"
      ]
     },
     "metadata": {},
     "output_type": "display_data"
    },
    {
     "data": {
      "text/html": [
       "<pre>+-----------+--------------+--------------------+---------------+----------------------+-----------------+</pre>"
      ],
      "text/plain": [
       "+-----------+--------------+--------------------+---------------+----------------------+-----------------+"
      ]
     },
     "metadata": {},
     "output_type": "display_data"
    },
    {
     "data": {
      "text/html": [
       "<pre>| Iteration | Elapsed Time | Training-max_error | Training-rmse | Validation-max_error | Validation-rmse |</pre>"
      ],
      "text/plain": [
       "| Iteration | Elapsed Time | Training-max_error | Training-rmse | Validation-max_error | Validation-rmse |"
      ]
     },
     "metadata": {},
     "output_type": "display_data"
    },
    {
     "data": {
      "text/html": [
       "<pre>+-----------+--------------+--------------------+---------------+----------------------+-----------------+</pre>"
      ],
      "text/plain": [
       "+-----------+--------------+--------------------+---------------+----------------------+-----------------+"
      ]
     },
     "metadata": {},
     "output_type": "display_data"
    },
    {
     "data": {
      "text/html": [
       "<pre>| 1         | 0.005244     | 6619.778320        | 215.687103    | 3119.498779          | 224.005707      |</pre>"
      ],
      "text/plain": [
       "| 1         | 0.005244     | 6619.778320        | 215.687103    | 3119.498779          | 224.005707      |"
      ]
     },
     "metadata": {},
     "output_type": "display_data"
    },
    {
     "data": {
      "text/html": [
       "<pre>| 2         | 0.009353     | 5626.811523        | 171.427063    | 2126.531982          | 172.704483      |</pre>"
      ],
      "text/plain": [
       "| 2         | 0.009353     | 5626.811523        | 171.427063    | 2126.531982          | 172.704483      |"
      ]
     },
     "metadata": {},
     "output_type": "display_data"
    },
    {
     "data": {
      "text/html": [
       "<pre>| 3         | 0.013328     | 4782.790039        | 138.737198    | 1282.510254          | 136.502182      |</pre>"
      ],
      "text/plain": [
       "| 3         | 0.013328     | 4782.790039        | 138.737198    | 1282.510254          | 136.502182      |"
      ]
     },
     "metadata": {},
     "output_type": "display_data"
    },
    {
     "data": {
      "text/html": [
       "<pre>| 4         | 0.017432     | 4065.371338        | 114.202545    | 900.629822           | 113.401138      |</pre>"
      ],
      "text/plain": [
       "| 4         | 0.017432     | 4065.371338        | 114.202545    | 900.629822           | 113.401138      |"
      ]
     },
     "metadata": {},
     "output_type": "display_data"
    },
    {
     "data": {
      "text/html": [
       "<pre>| 5         | 0.021712     | 3455.565430        | 95.019173     | 852.647949           | 101.454056      |</pre>"
      ],
      "text/plain": [
       "| 5         | 0.021712     | 3455.565430        | 95.019173     | 852.647949           | 101.454056      |"
      ]
     },
     "metadata": {},
     "output_type": "display_data"
    },
    {
     "data": {
      "text/html": [
       "<pre>| 6         | 0.025571     | 2937.230469        | 80.068642     | 826.373657           | 98.044014       |</pre>"
      ],
      "text/plain": [
       "| 6         | 0.025571     | 2937.230469        | 80.068642     | 826.373657           | 98.044014       |"
      ]
     },
     "metadata": {},
     "output_type": "display_data"
    },
    {
     "data": {
      "text/html": [
       "<pre>| 11        | 0.044151     | 1303.264648        | 38.649864     | 2197.014404          | 124.272369      |</pre>"
      ],
      "text/plain": [
       "| 11        | 0.044151     | 1303.264648        | 38.649864     | 2197.014404          | 124.272369      |"
      ]
     },
     "metadata": {},
     "output_type": "display_data"
    },
    {
     "data": {
      "text/html": [
       "<pre>+-----------+--------------+--------------------+---------------+----------------------+-----------------+</pre>"
      ],
      "text/plain": [
       "+-----------+--------------+--------------------+---------------+----------------------+-----------------+"
      ]
     },
     "metadata": {},
     "output_type": "display_data"
    },
    {
     "data": {
      "text/html": [
       "<pre>Early stop triggered. Returning the best model at iteration: 6</pre>"
      ],
      "text/plain": [
       "Early stop triggered. Returning the best model at iteration: 6"
      ]
     },
     "metadata": {},
     "output_type": "display_data"
    }
   ],
   "source": [
    "clv_GBT = gl.boosted_trees_regression.create(train, target='CLV', features = features, validation_set=validate, max_iterations=30, early_stopping_rounds=10, max_depth=6,)"
   ]
  },
  {
   "cell_type": "markdown",
   "metadata": {
    "heading_collapsed": true
   },
   "source": [
    "### Random Forest"
   ]
  },
  {
   "cell_type": "code",
   "execution_count": 23,
   "metadata": {
    "ExecuteTime": {
     "end_time": "2016-04-15T00:08:47.972507",
     "start_time": "2016-04-15T00:08:47.869946"
    },
    "collapsed": false,
    "hidden": true
   },
   "outputs": [
    {
     "data": {
      "text/html": [
       "<pre>Random forest regression:</pre>"
      ],
      "text/plain": [
       "Random forest regression:"
      ]
     },
     "metadata": {},
     "output_type": "display_data"
    },
    {
     "data": {
      "text/html": [
       "<pre>--------------------------------------------------------</pre>"
      ],
      "text/plain": [
       "--------------------------------------------------------"
      ]
     },
     "metadata": {},
     "output_type": "display_data"
    },
    {
     "data": {
      "text/html": [
       "<pre>Number of examples          : 2124</pre>"
      ],
      "text/plain": [
       "Number of examples          : 2124"
      ]
     },
     "metadata": {},
     "output_type": "display_data"
    },
    {
     "data": {
      "text/html": [
       "<pre>Number of features          : 7</pre>"
      ],
      "text/plain": [
       "Number of features          : 7"
      ]
     },
     "metadata": {},
     "output_type": "display_data"
    },
    {
     "data": {
      "text/html": [
       "<pre>Number of unpacked features : 40</pre>"
      ],
      "text/plain": [
       "Number of unpacked features : 40"
      ]
     },
     "metadata": {},
     "output_type": "display_data"
    },
    {
     "data": {
      "text/html": [
       "<pre>+-----------+--------------+--------------------+---------------+----------------------+-----------------+</pre>"
      ],
      "text/plain": [
       "+-----------+--------------+--------------------+---------------+----------------------+-----------------+"
      ]
     },
     "metadata": {},
     "output_type": "display_data"
    },
    {
     "data": {
      "text/html": [
       "<pre>| Iteration | Elapsed Time | Training-max_error | Training-rmse | Validation-max_error | Validation-rmse |</pre>"
      ],
      "text/plain": [
       "| Iteration | Elapsed Time | Training-max_error | Training-rmse | Validation-max_error | Validation-rmse |"
      ]
     },
     "metadata": {},
     "output_type": "display_data"
    },
    {
     "data": {
      "text/html": [
       "<pre>+-----------+--------------+--------------------+---------------+----------------------+-----------------+</pre>"
      ],
      "text/plain": [
       "+-----------+--------------+--------------------+---------------+----------------------+-----------------+"
      ]
     },
     "metadata": {},
     "output_type": "display_data"
    },
    {
     "data": {
      "text/html": [
       "<pre>| 1         | 0.004393     | 4532.480957        | 119.385040    | 2192.396240          | 149.734283      |</pre>"
      ],
      "text/plain": [
       "| 1         | 0.004393     | 4532.480957        | 119.385040    | 2192.396240          | 149.734283      |"
      ]
     },
     "metadata": {},
     "output_type": "display_data"
    },
    {
     "data": {
      "text/html": [
       "<pre>| 2         | 0.008403     | 4376.081055        | 112.982544    | 2463.104004          | 143.315491      |</pre>"
      ],
      "text/plain": [
       "| 2         | 0.008403     | 4376.081055        | 112.982544    | 2463.104004          | 143.315491      |"
      ]
     },
     "metadata": {},
     "output_type": "display_data"
    },
    {
     "data": {
      "text/html": [
       "<pre>| 3         | 0.012208     | 4323.947754        | 110.977890    | 2669.191406          | 151.144333      |</pre>"
      ],
      "text/plain": [
       "| 3         | 0.012208     | 4323.947754        | 110.977890    | 2669.191406          | 151.144333      |"
      ]
     },
     "metadata": {},
     "output_type": "display_data"
    },
    {
     "data": {
      "text/html": [
       "<pre>| 4         | 0.016510     | 4199.009766        | 108.052238    | 1853.315918          | 123.707581      |</pre>"
      ],
      "text/plain": [
       "| 4         | 0.016510     | 4199.009766        | 108.052238    | 1853.315918          | 123.707581      |"
      ]
     },
     "metadata": {},
     "output_type": "display_data"
    },
    {
     "data": {
      "text/html": [
       "<pre>| 5         | 0.020310     | 4203.143555        | 107.887383    | 2064.330566          | 132.821655      |</pre>"
      ],
      "text/plain": [
       "| 5         | 0.020310     | 4203.143555        | 107.887383    | 2064.330566          | 132.821655      |"
      ]
     },
     "metadata": {},
     "output_type": "display_data"
    },
    {
     "data": {
      "text/html": [
       "<pre>| 6         | 0.024011     | 4205.899902        | 108.889542    | 2233.836670          | 140.145782      |</pre>"
      ],
      "text/plain": [
       "| 6         | 0.024011     | 4205.899902        | 108.889542    | 2233.836670          | 140.145782      |"
      ]
     },
     "metadata": {},
     "output_type": "display_data"
    },
    {
     "data": {
      "text/html": [
       "<pre>+-----------+--------------+--------------------+---------------+----------------------+-----------------+</pre>"
      ],
      "text/plain": [
       "+-----------+--------------+--------------------+---------------+----------------------+-----------------+"
      ]
     },
     "metadata": {},
     "output_type": "display_data"
    }
   ],
   "source": [
    "clv_RF = gl.random_forest_regression.create(train, target='CLV', features = features, validation_set=validate, num_trees=10)"
   ]
  },
  {
   "cell_type": "code",
   "execution_count": 24,
   "metadata": {
    "ExecuteTime": {
     "end_time": "2016-04-15T00:08:50.908215",
     "start_time": "2016-04-15T00:08:50.869561"
    },
    "collapsed": false,
    "hidden": true
   },
   "outputs": [
    {
     "data": {
      "text/html": [
       "<div style=\"max-height:1000px;max-width:1500px;overflow:auto;\"><table frame=\"box\" rules=\"cols\">\n",
       "    <tr>\n",
       "        <th style=\"padding-left: 1em; padding-right: 1em; text-align: center\">name</th>\n",
       "        <th style=\"padding-left: 1em; padding-right: 1em; text-align: center\">index</th>\n",
       "        <th style=\"padding-left: 1em; padding-right: 1em; text-align: center\">count</th>\n",
       "    </tr>\n",
       "    <tr>\n",
       "        <td style=\"padding-left: 1em; padding-right: 1em; text-align: center; vertical-align: top\">Profit_by_period</td>\n",
       "        <td style=\"padding-left: 1em; padding-right: 1em; text-align: center; vertical-align: top\">1</td>\n",
       "        <td style=\"padding-left: 1em; padding-right: 1em; text-align: center; vertical-align: top\">72</td>\n",
       "    </tr>\n",
       "    <tr>\n",
       "        <td style=\"padding-left: 1em; padding-right: 1em; text-align: center; vertical-align: top\">Quantity</td>\n",
       "        <td style=\"padding-left: 1em; padding-right: 1em; text-align: center; vertical-align: top\">None</td>\n",
       "        <td style=\"padding-left: 1em; padding-right: 1em; text-align: center; vertical-align: top\">68</td>\n",
       "    </tr>\n",
       "    <tr>\n",
       "        <td style=\"padding-left: 1em; padding-right: 1em; text-align: center; vertical-align: top\">Txs</td>\n",
       "        <td style=\"padding-left: 1em; padding-right: 1em; text-align: center; vertical-align: top\">None</td>\n",
       "        <td style=\"padding-left: 1em; padding-right: 1em; text-align: center; vertical-align: top\">44</td>\n",
       "    </tr>\n",
       "    <tr>\n",
       "        <td style=\"padding-left: 1em; padding-right: 1em; text-align: center; vertical-align: top\">Quantity_by_period</td>\n",
       "        <td style=\"padding-left: 1em; padding-right: 1em; text-align: center; vertical-align: top\">1</td>\n",
       "        <td style=\"padding-left: 1em; padding-right: 1em; text-align: center; vertical-align: top\">21</td>\n",
       "    </tr>\n",
       "    <tr>\n",
       "        <td style=\"padding-left: 1em; padding-right: 1em; text-align: center; vertical-align: top\">Lifetime</td>\n",
       "        <td style=\"padding-left: 1em; padding-right: 1em; text-align: center; vertical-align: top\">None</td>\n",
       "        <td style=\"padding-left: 1em; padding-right: 1em; text-align: center; vertical-align: top\">17</td>\n",
       "    </tr>\n",
       "    <tr>\n",
       "        <td style=\"padding-left: 1em; padding-right: 1em; text-align: center; vertical-align: top\">Quantity_by_period</td>\n",
       "        <td style=\"padding-left: 1em; padding-right: 1em; text-align: center; vertical-align: top\">4</td>\n",
       "        <td style=\"padding-left: 1em; padding-right: 1em; text-align: center; vertical-align: top\">11</td>\n",
       "    </tr>\n",
       "    <tr>\n",
       "        <td style=\"padding-left: 1em; padding-right: 1em; text-align: center; vertical-align: top\">Profit_by_period</td>\n",
       "        <td style=\"padding-left: 1em; padding-right: 1em; text-align: center; vertical-align: top\">4</td>\n",
       "        <td style=\"padding-left: 1em; padding-right: 1em; text-align: center; vertical-align: top\">6</td>\n",
       "    </tr>\n",
       "    <tr>\n",
       "        <td style=\"padding-left: 1em; padding-right: 1em; text-align: center; vertical-align: top\">Profit_by_period</td>\n",
       "        <td style=\"padding-left: 1em; padding-right: 1em; text-align: center; vertical-align: top\">3</td>\n",
       "        <td style=\"padding-left: 1em; padding-right: 1em; text-align: center; vertical-align: top\">6</td>\n",
       "    </tr>\n",
       "    <tr>\n",
       "        <td style=\"padding-left: 1em; padding-right: 1em; text-align: center; vertical-align: top\">Txs_by_period</td>\n",
       "        <td style=\"padding-left: 1em; padding-right: 1em; text-align: center; vertical-align: top\">8</td>\n",
       "        <td style=\"padding-left: 1em; padding-right: 1em; text-align: center; vertical-align: top\">5</td>\n",
       "    </tr>\n",
       "    <tr>\n",
       "        <td style=\"padding-left: 1em; padding-right: 1em; text-align: center; vertical-align: top\">Txs_by_period</td>\n",
       "        <td style=\"padding-left: 1em; padding-right: 1em; text-align: center; vertical-align: top\">3</td>\n",
       "        <td style=\"padding-left: 1em; padding-right: 1em; text-align: center; vertical-align: top\">5</td>\n",
       "    </tr>\n",
       "</table>\n",
       "[40 rows x 3 columns]<br/>Note: Only the head of the SFrame is printed.<br/>You can use print_rows(num_rows=m, num_columns=n) to print more rows and columns.\n",
       "</div>"
      ],
      "text/plain": [
       "Columns:\n",
       "\tname\tstr\n",
       "\tindex\tstr\n",
       "\tcount\tint\n",
       "\n",
       "Rows: 40\n",
       "\n",
       "Data:\n",
       "+--------------------+-------+-------+\n",
       "|        name        | index | count |\n",
       "+--------------------+-------+-------+\n",
       "|  Profit_by_period  |   1   |   72  |\n",
       "|      Quantity      |  None |   68  |\n",
       "|        Txs         |  None |   44  |\n",
       "| Quantity_by_period |   1   |   21  |\n",
       "|      Lifetime      |  None |   17  |\n",
       "| Quantity_by_period |   4   |   11  |\n",
       "|  Profit_by_period  |   4   |   6   |\n",
       "|  Profit_by_period  |   3   |   6   |\n",
       "|   Txs_by_period    |   8   |   5   |\n",
       "|   Txs_by_period    |   3   |   5   |\n",
       "+--------------------+-------+-------+\n",
       "[40 rows x 3 columns]\n",
       "Note: Only the head of the SFrame is printed.\n",
       "You can use print_rows(num_rows=m, num_columns=n) to print more rows and columns."
      ]
     },
     "execution_count": 24,
     "metadata": {},
     "output_type": "execute_result"
    }
   ],
   "source": [
    "clv_RF.get_feature_importance()"
   ]
  },
  {
   "cell_type": "code",
   "execution_count": 25,
   "metadata": {
    "ExecuteTime": {
     "end_time": "2016-04-15T00:08:53.889247",
     "start_time": "2016-04-15T00:08:53.656185"
    },
    "collapsed": false,
    "hidden": true
   },
   "outputs": [
    {
     "data": {
      "text/html": [
       "<pre>WARNING: The number of feature dimensions in this problem is very large in comparison with the number of examples. Unless an appropriate regularization value is set, this model may not provide accurate predictions for a validation/test set.</pre>"
      ],
      "text/plain": [
       "WARNING: The number of feature dimensions in this problem is very large in comparison with the number of examples. Unless an appropriate regularization value is set, this model may not provide accurate predictions for a validation/test set."
      ]
     },
     "metadata": {},
     "output_type": "display_data"
    },
    {
     "data": {
      "text/html": [
       "<pre>Random forest regression:</pre>"
      ],
      "text/plain": [
       "Random forest regression:"
      ]
     },
     "metadata": {},
     "output_type": "display_data"
    },
    {
     "data": {
      "text/html": [
       "<pre>--------------------------------------------------------</pre>"
      ],
      "text/plain": [
       "--------------------------------------------------------"
      ]
     },
     "metadata": {},
     "output_type": "display_data"
    },
    {
     "data": {
      "text/html": [
       "<pre>Number of examples          : 2124</pre>"
      ],
      "text/plain": [
       "Number of examples          : 2124"
      ]
     },
     "metadata": {},
     "output_type": "display_data"
    },
    {
     "data": {
      "text/html": [
       "<pre>Number of features          : 8</pre>"
      ],
      "text/plain": [
       "Number of features          : 8"
      ]
     },
     "metadata": {},
     "output_type": "display_data"
    },
    {
     "data": {
      "text/html": [
       "<pre>Number of unpacked features : 41</pre>"
      ],
      "text/plain": [
       "Number of unpacked features : 41"
      ]
     },
     "metadata": {},
     "output_type": "display_data"
    },
    {
     "data": {
      "text/html": [
       "<pre>+-----------+--------------+--------------------+---------------+----------------------+-----------------+</pre>"
      ],
      "text/plain": [
       "+-----------+--------------+--------------------+---------------+----------------------+-----------------+"
      ]
     },
     "metadata": {},
     "output_type": "display_data"
    },
    {
     "data": {
      "text/html": [
       "<pre>| Iteration | Elapsed Time | Training-max_error | Training-rmse | Validation-max_error | Validation-rmse |</pre>"
      ],
      "text/plain": [
       "| Iteration | Elapsed Time | Training-max_error | Training-rmse | Validation-max_error | Validation-rmse |"
      ]
     },
     "metadata": {},
     "output_type": "display_data"
    },
    {
     "data": {
      "text/html": [
       "<pre>+-----------+--------------+--------------------+---------------+----------------------+-----------------+</pre>"
      ],
      "text/plain": [
       "+-----------+--------------+--------------------+---------------+----------------------+-----------------+"
      ]
     },
     "metadata": {},
     "output_type": "display_data"
    },
    {
     "data": {
      "text/html": [
       "<pre>| 1         | 0.006446     | 4532.480957        | 137.939636    | 2405.035400          | 176.081390      |</pre>"
      ],
      "text/plain": [
       "| 1         | 0.006446     | 4532.480957        | 137.939636    | 2405.035400          | 176.081390      |"
      ]
     },
     "metadata": {},
     "output_type": "display_data"
    },
    {
     "data": {
      "text/html": [
       "<pre>| 2         | 0.012095     | 4376.081055        | 125.537903    | 2793.666016          | 167.864960      |</pre>"
      ],
      "text/plain": [
       "| 2         | 0.012095     | 4376.081055        | 125.537903    | 2793.666016          | 167.864960      |"
      ]
     },
     "metadata": {},
     "output_type": "display_data"
    },
    {
     "data": {
      "text/html": [
       "<pre>| 3         | 0.018135     | 5121.023438        | 128.943176    | 2825.238770          | 156.241898      |</pre>"
      ],
      "text/plain": [
       "| 3         | 0.018135     | 5121.023438        | 128.943176    | 2825.238770          | 156.241898      |"
      ]
     },
     "metadata": {},
     "output_type": "display_data"
    },
    {
     "data": {
      "text/html": [
       "<pre>| 4         | 0.024152     | 4973.887695        | 122.451454    | 2660.858887          | 146.231949      |</pre>"
      ],
      "text/plain": [
       "| 4         | 0.024152     | 4973.887695        | 122.451454    | 2660.858887          | 146.231949      |"
      ]
     },
     "metadata": {},
     "output_type": "display_data"
    },
    {
     "data": {
      "text/html": [
       "<pre>| 5         | 0.030342     | 4743.949219        | 116.153877    | 2704.963867          | 145.933105      |</pre>"
      ],
      "text/plain": [
       "| 5         | 0.030342     | 4743.949219        | 116.153877    | 2704.963867          | 145.933105      |"
      ]
     },
     "metadata": {},
     "output_type": "display_data"
    },
    {
     "data": {
      "text/html": [
       "<pre>| 6         | 0.036368     | 4656.571289        | 113.785011    | 2669.499756          | 145.036789      |</pre>"
      ],
      "text/plain": [
       "| 6         | 0.036368     | 4656.571289        | 113.785011    | 2669.499756          | 145.036789      |"
      ]
     },
     "metadata": {},
     "output_type": "display_data"
    },
    {
     "data": {
      "text/html": [
       "<pre>+-----------+--------------+--------------------+---------------+----------------------+-----------------+</pre>"
      ],
      "text/plain": [
       "+-----------+--------------+--------------------+---------------+----------------------+-----------------+"
      ]
     },
     "metadata": {},
     "output_type": "display_data"
    }
   ],
   "source": [
    "clv_RF_all = gl.random_forest_regression.create(train, target='CLV', features = all_features, validation_set=validate, num_trees=10)"
   ]
  },
  {
   "cell_type": "markdown",
   "metadata": {},
   "source": [
    "### Linear regression\n",
    "Very low validate RMSE of 0.003799 when using features without 'Purchases'. When adding in the list of purchases the validation RMSE is 44.293978. Can we trust the results of the first run?"
   ]
  },
  {
   "cell_type": "code",
   "execution_count": 21,
   "metadata": {
    "ExecuteTime": {
     "end_time": "2016-04-15T00:08:28.484118",
     "start_time": "2016-04-15T00:08:28.414665"
    },
    "collapsed": false
   },
   "outputs": [
    {
     "data": {
      "text/html": [
       "<pre>Linear regression:</pre>"
      ],
      "text/plain": [
       "Linear regression:"
      ]
     },
     "metadata": {},
     "output_type": "display_data"
    },
    {
     "data": {
      "text/html": [
       "<pre>--------------------------------------------------------</pre>"
      ],
      "text/plain": [
       "--------------------------------------------------------"
      ]
     },
     "metadata": {},
     "output_type": "display_data"
    },
    {
     "data": {
      "text/html": [
       "<pre>Number of examples          : 2124</pre>"
      ],
      "text/plain": [
       "Number of examples          : 2124"
      ]
     },
     "metadata": {},
     "output_type": "display_data"
    },
    {
     "data": {
      "text/html": [
       "<pre>Number of features          : 7</pre>"
      ],
      "text/plain": [
       "Number of features          : 7"
      ]
     },
     "metadata": {},
     "output_type": "display_data"
    },
    {
     "data": {
      "text/html": [
       "<pre>Number of unpacked features : 40</pre>"
      ],
      "text/plain": [
       "Number of unpacked features : 40"
      ]
     },
     "metadata": {},
     "output_type": "display_data"
    },
    {
     "data": {
      "text/html": [
       "<pre>Number of coefficients    : 41</pre>"
      ],
      "text/plain": [
       "Number of coefficients    : 41"
      ]
     },
     "metadata": {},
     "output_type": "display_data"
    },
    {
     "data": {
      "text/html": [
       "<pre>Starting Newton Method</pre>"
      ],
      "text/plain": [
       "Starting Newton Method"
      ]
     },
     "metadata": {},
     "output_type": "display_data"
    },
    {
     "data": {
      "text/html": [
       "<pre>--------------------------------------------------------</pre>"
      ],
      "text/plain": [
       "--------------------------------------------------------"
      ]
     },
     "metadata": {},
     "output_type": "display_data"
    },
    {
     "data": {
      "text/html": [
       "<pre>+-----------+----------+--------------+--------------------+----------------------+---------------+-----------------+</pre>"
      ],
      "text/plain": [
       "+-----------+----------+--------------+--------------------+----------------------+---------------+-----------------+"
      ]
     },
     "metadata": {},
     "output_type": "display_data"
    },
    {
     "data": {
      "text/html": [
       "<pre>| Iteration | Passes   | Elapsed Time | Training-max_error | Validation-max_error | Training-rmse | Validation-rmse |</pre>"
      ],
      "text/plain": [
       "| Iteration | Passes   | Elapsed Time | Training-max_error | Validation-max_error | Training-rmse | Validation-rmse |"
      ]
     },
     "metadata": {},
     "output_type": "display_data"
    },
    {
     "data": {
      "text/html": [
       "<pre>+-----------+----------+--------------+--------------------+----------------------+---------------+-----------------+</pre>"
      ],
      "text/plain": [
       "+-----------+----------+--------------+--------------------+----------------------+---------------+-----------------+"
      ]
     },
     "metadata": {},
     "output_type": "display_data"
    },
    {
     "data": {
      "text/html": [
       "<pre>| 1         | 2        | 0.005435     | 0.032458           | 0.044810             | 0.002179      | 0.003799        |</pre>"
      ],
      "text/plain": [
       "| 1         | 2        | 0.005435     | 0.032458           | 0.044810             | 0.002179      | 0.003799        |"
      ]
     },
     "metadata": {},
     "output_type": "display_data"
    },
    {
     "data": {
      "text/html": [
       "<pre>+-----------+----------+--------------+--------------------+----------------------+---------------+-----------------+</pre>"
      ],
      "text/plain": [
       "+-----------+----------+--------------+--------------------+----------------------+---------------+-----------------+"
      ]
     },
     "metadata": {},
     "output_type": "display_data"
    },
    {
     "data": {
      "text/html": [
       "<pre>SUCCESS: Optimal solution found.</pre>"
      ],
      "text/plain": [
       "SUCCESS: Optimal solution found."
      ]
     },
     "metadata": {},
     "output_type": "display_data"
    },
    {
     "data": {
      "text/html": [
       "<pre></pre>"
      ],
      "text/plain": []
     },
     "metadata": {},
     "output_type": "display_data"
    }
   ],
   "source": [
    "clv_LR = gl.linear_regression.create(train, target='CLV', features = features, validation_set=validate, max_iterations=50)"
   ]
  },
  {
   "cell_type": "code",
   "execution_count": 22,
   "metadata": {
    "ExecuteTime": {
     "end_time": "2016-04-15T00:08:35.236343",
     "start_time": "2016-04-15T00:08:29.416161"
    },
    "collapsed": true
   },
   "outputs": [
    {
     "data": {
      "text/html": [
       "<pre>WARNING: The number of feature dimensions in this problem is very large in comparison with the number of examples. Unless an appropriate regularization value is set, this model may not provide accurate predictions for a validation/test set.</pre>"
      ],
      "text/plain": [
       "WARNING: The number of feature dimensions in this problem is very large in comparison with the number of examples. Unless an appropriate regularization value is set, this model may not provide accurate predictions for a validation/test set."
      ]
     },
     "metadata": {},
     "output_type": "display_data"
    },
    {
     "data": {
      "text/html": [
       "<pre>Linear regression:</pre>"
      ],
      "text/plain": [
       "Linear regression:"
      ]
     },
     "metadata": {},
     "output_type": "display_data"
    },
    {
     "data": {
      "text/html": [
       "<pre>--------------------------------------------------------</pre>"
      ],
      "text/plain": [
       "--------------------------------------------------------"
      ]
     },
     "metadata": {},
     "output_type": "display_data"
    },
    {
     "data": {
      "text/html": [
       "<pre>Number of examples          : 2124</pre>"
      ],
      "text/plain": [
       "Number of examples          : 2124"
      ]
     },
     "metadata": {},
     "output_type": "display_data"
    },
    {
     "data": {
      "text/html": [
       "<pre>Number of features          : 8</pre>"
      ],
      "text/plain": [
       "Number of features          : 8"
      ]
     },
     "metadata": {},
     "output_type": "display_data"
    },
    {
     "data": {
      "text/html": [
       "<pre>Number of unpacked features : 41</pre>"
      ],
      "text/plain": [
       "Number of unpacked features : 41"
      ]
     },
     "metadata": {},
     "output_type": "display_data"
    },
    {
     "data": {
      "text/html": [
       "<pre>Number of coefficients    : 3428</pre>"
      ],
      "text/plain": [
       "Number of coefficients    : 3428"
      ]
     },
     "metadata": {},
     "output_type": "display_data"
    },
    {
     "data": {
      "text/html": [
       "<pre>Starting L-BFGS</pre>"
      ],
      "text/plain": [
       "Starting L-BFGS"
      ]
     },
     "metadata": {},
     "output_type": "display_data"
    },
    {
     "data": {
      "text/html": [
       "<pre>--------------------------------------------------------</pre>"
      ],
      "text/plain": [
       "--------------------------------------------------------"
      ]
     },
     "metadata": {},
     "output_type": "display_data"
    },
    {
     "data": {
      "text/html": [
       "<pre>+-----------+----------+-----------+--------------+--------------------+----------------------+---------------+-----------------+</pre>"
      ],
      "text/plain": [
       "+-----------+----------+-----------+--------------+--------------------+----------------------+---------------+-----------------+"
      ]
     },
     "metadata": {},
     "output_type": "display_data"
    },
    {
     "data": {
      "text/html": [
       "<pre>| Iteration | Passes   | Step size | Elapsed Time | Training-max_error | Validation-max_error | Training-rmse | Validation-rmse |</pre>"
      ],
      "text/plain": [
       "| Iteration | Passes   | Step size | Elapsed Time | Training-max_error | Validation-max_error | Training-rmse | Validation-rmse |"
      ]
     },
     "metadata": {},
     "output_type": "display_data"
    },
    {
     "data": {
      "text/html": [
       "<pre>+-----------+----------+-----------+--------------+--------------------+----------------------+---------------+-----------------+</pre>"
      ],
      "text/plain": [
       "+-----------+----------+-----------+--------------+--------------------+----------------------+---------------+-----------------+"
      ]
     },
     "metadata": {},
     "output_type": "display_data"
    },
    {
     "data": {
      "text/html": [
       "<pre>| 1         | 6        | 0.000003  | 0.035216     | 6631.430531        | 3092.176536          | 195.243083    | 204.382084      |</pre>"
      ],
      "text/plain": [
       "| 1         | 6        | 0.000003  | 0.035216     | 6631.430531        | 3092.176536          | 195.243083    | 204.382084      |"
      ]
     },
     "metadata": {},
     "output_type": "display_data"
    },
    {
     "data": {
      "text/html": [
       "<pre>| 2         | 9        | 5.000000  | 0.057186     | 3821.250088        | 2787.977356          | 114.855721    | 162.937958      |</pre>"
      ],
      "text/plain": [
       "| 2         | 9        | 5.000000  | 0.057186     | 3821.250088        | 2787.977356          | 114.855721    | 162.937958      |"
      ]
     },
     "metadata": {},
     "output_type": "display_data"
    },
    {
     "data": {
      "text/html": [
       "<pre>| 3         | 10       | 5.000000  | 0.069085     | 9273.224633        | 3018.662410          | 303.348488    | 216.702044      |</pre>"
      ],
      "text/plain": [
       "| 3         | 10       | 5.000000  | 0.069085     | 9273.224633        | 3018.662410          | 303.348488    | 216.702044      |"
      ]
     },
     "metadata": {},
     "output_type": "display_data"
    },
    {
     "data": {
      "text/html": [
       "<pre>| 4         | 12       | 1.000000  | 0.085776     | 696.087278         | 2260.298035          | 50.138116     | 134.474196      |</pre>"
      ],
      "text/plain": [
       "| 4         | 12       | 1.000000  | 0.085776     | 696.087278         | 2260.298035          | 50.138116     | 134.474196      |"
      ]
     },
     "metadata": {},
     "output_type": "display_data"
    },
    {
     "data": {
      "text/html": [
       "<pre>| 5         | 13       | 1.000000  | 0.097431     | 764.898360         | 2158.434653          | 75.644993     | 141.511422      |</pre>"
      ],
      "text/plain": [
       "| 5         | 13       | 1.000000  | 0.097431     | 764.898360         | 2158.434653          | 75.644993     | 141.511422      |"
      ]
     },
     "metadata": {},
     "output_type": "display_data"
    },
    {
     "data": {
      "text/html": [
       "<pre>| 6         | 15       | 1.000000  | 0.117263     | 692.663898         | 2224.031294          | 45.703730     | 132.151950      |</pre>"
      ],
      "text/plain": [
       "| 6         | 15       | 1.000000  | 0.117263     | 692.663898         | 2224.031294          | 45.703730     | 132.151950      |"
      ]
     },
     "metadata": {},
     "output_type": "display_data"
    },
    {
     "data": {
      "text/html": [
       "<pre>| 11        | 20       | 1.000000  | 0.171430     | 551.213884         | 1689.534086          | 30.848875     | 110.829507      |</pre>"
      ],
      "text/plain": [
       "| 11        | 20       | 1.000000  | 0.171430     | 551.213884         | 1689.534086          | 30.848875     | 110.829507      |"
      ]
     },
     "metadata": {},
     "output_type": "display_data"
    },
    {
     "data": {
      "text/html": [
       "<pre>| 51        | 62       | 1.000000  | 0.619419     | 140.682111         | 771.412896           | 5.787485      | 63.312554       |</pre>"
      ],
      "text/plain": [
       "| 51        | 62       | 1.000000  | 0.619419     | 140.682111         | 771.412896           | 5.787485      | 63.312554       |"
      ]
     },
     "metadata": {},
     "output_type": "display_data"
    },
    {
     "data": {
      "text/html": [
       "<pre>| 100       | 116      | 1.000000  | 1.179254     | 46.931096          | 683.930777           | 2.425158      | 52.393802       |</pre>"
      ],
      "text/plain": [
       "| 100       | 116      | 1.000000  | 1.179254     | 46.931096          | 683.930777           | 2.425158      | 52.393802       |"
      ]
     },
     "metadata": {},
     "output_type": "display_data"
    },
    {
     "data": {
      "text/html": [
       "<pre>| 101       | 117      | 1.000000  | 1.189984     | 45.188479          | 682.419513           | 2.375572      | 52.222284       |</pre>"
      ],
      "text/plain": [
       "| 101       | 117      | 1.000000  | 1.189984     | 45.188479          | 682.419513           | 2.375572      | 52.222284       |"
      ]
     },
     "metadata": {},
     "output_type": "display_data"
    },
    {
     "data": {
      "text/html": [
       "<pre>| 200       | 223      | 1.000000  | 2.299172     | 8.547215           | 640.093936           | 0.660556      | 45.698625       |</pre>"
      ],
      "text/plain": [
       "| 200       | 223      | 1.000000  | 2.299172     | 8.547215           | 640.093936           | 0.660556      | 45.698625       |"
      ]
     },
     "metadata": {},
     "output_type": "display_data"
    },
    {
     "data": {
      "text/html": [
       "<pre>| 300       | 328      | 1.000000  | 3.422686     | 3.589836           | 621.271431           | 0.255556      | 44.513505       |</pre>"
      ],
      "text/plain": [
       "| 300       | 328      | 1.000000  | 3.422686     | 3.589836           | 621.271431           | 0.255556      | 44.513505       |"
      ]
     },
     "metadata": {},
     "output_type": "display_data"
    },
    {
     "data": {
      "text/html": [
       "<pre>| 400       | 431      | 1.000000  | 4.523826     | 2.127419           | 621.781179           | 0.145712      | 44.286803       |</pre>"
      ],
      "text/plain": [
       "| 400       | 431      | 1.000000  | 4.523826     | 2.127419           | 621.781179           | 0.145712      | 44.286803       |"
      ]
     },
     "metadata": {},
     "output_type": "display_data"
    },
    {
     "data": {
      "text/html": [
       "<pre>| 500       | 536      | 1.000000  | 5.649219     | 1.328926           | 624.342290           | 0.090738      | 44.293978       |</pre>"
      ],
      "text/plain": [
       "| 500       | 536      | 1.000000  | 5.649219     | 1.328926           | 624.342290           | 0.090738      | 44.293978       |"
      ]
     },
     "metadata": {},
     "output_type": "display_data"
    },
    {
     "data": {
      "text/html": [
       "<pre>+-----------+----------+-----------+--------------+--------------------+----------------------+---------------+-----------------+</pre>"
      ],
      "text/plain": [
       "+-----------+----------+-----------+--------------+--------------------+----------------------+---------------+-----------------+"
      ]
     },
     "metadata": {},
     "output_type": "display_data"
    },
    {
     "data": {
      "text/html": [
       "<pre>TERMINATED: Iteration limit reached.</pre>"
      ],
      "text/plain": [
       "TERMINATED: Iteration limit reached."
      ]
     },
     "metadata": {},
     "output_type": "display_data"
    },
    {
     "data": {
      "text/html": [
       "<pre>This model may not be optimal. To improve it, consider increasing `max_iterations`.</pre>"
      ],
      "text/plain": [
       "This model may not be optimal. To improve it, consider increasing `max_iterations`."
      ]
     },
     "metadata": {},
     "output_type": "display_data"
    }
   ],
   "source": [
    "clv_LR_all = gl.linear_regression.create(train, target='CLV', features = all_features, validation_set=validate, max_iterations=500)"
   ]
  },
  {
   "cell_type": "code",
   "execution_count": 37,
   "metadata": {
    "ExecuteTime": {
     "end_time": "2016-04-15T00:16:04.252658",
     "start_time": "2016-04-15T00:16:04.215621"
    },
    "collapsed": false
   },
   "outputs": [
    {
     "name": "stdout",
     "output_type": "stream",
     "text": [
      "+--------------------+-------+--------------------+-------------------+\n",
      "|        name        | index |       value        |       stderr      |\n",
      "+--------------------+-------+--------------------+-------------------+\n",
      "|  Profit_by_period  |   2   |   1.00001111789    | 4.15843630196e-06 |\n",
      "|  Profit_by_period  |   8   |   1.00001102612    | 4.51679385034e-06 |\n",
      "|  Profit_by_period  |   7   |   1.00000903857    | 4.00146045927e-06 |\n",
      "|  Profit_by_period  |   3   |   1.00000204893    | 3.92069413386e-06 |\n",
      "|  Profit_by_period  |   4   |   0.999992307005   | 5.05023940841e-06 |\n",
      "|  Profit_by_period  |   5   |   0.999983712642   | 4.42515340352e-06 |\n",
      "|  Profit_by_period  |   10  |   0.999978354804   | 7.81836037989e-06 |\n",
      "|  Profit_by_period  |   1   |   0.999978215707   | 1.06164871343e-06 |\n",
      "|  Profit_by_period  |   9   |   0.999969231374   | 4.05032192003e-06 |\n",
      "|  Profit_by_period  |   6   |   0.999946227036   | 3.78404020317e-06 |\n",
      "|  Profit_by_period  |   12  |   0.999933150143   | 1.80598329403e-05 |\n",
      "|  Profit_by_period  |   11  |   0.999736802264   | 7.64078164941e-06 |\n",
      "|    (intercept)     |  None |  0.00184634867995  | 0.000443042733201 |\n",
      "| Quantity_by_period |   11  | 6.50147865707e-05  |        nan        |\n",
      "| Quantity_by_period |   12  | 3.86701624929e-05  |        nan        |\n",
      "|   Txs_by_period    |   6   | 3.81352025494e-05  |   23.0386291279   |\n",
      "|   Txs_by_period    |   10  | 2.27540339377e-05  |   23.0386291279   |\n",
      "|   Txs_by_period    |   5   | 1.59886586249e-05  |   23.0386291279   |\n",
      "|   Txs_by_period    |   8   | 1.48285567092e-05  |   23.0386291279   |\n",
      "|   Txs_by_period    |   1   | 1.20459413527e-05  |   23.0386291279   |\n",
      "|   Txs_by_period    |   7   | 7.68034953879e-06  |   23.0386291279   |\n",
      "| Quantity_by_period |   6   | 6.80837342185e-06  |        nan        |\n",
      "| Quantity_by_period |   9   | 6.69874083053e-06  |        nan        |\n",
      "|   Txs_by_period    |   3   |  5.503900212e-06   |   23.0386291279   |\n",
      "|        Txs         |  None | 3.00370813614e-06  |   23.0386291279   |\n",
      "| Quantity_by_period |   4   | 2.40327304693e-06  |        nan        |\n",
      "|      Quantity      |  None | 1.77301615372e-06  |        nan        |\n",
      "| Quantity_by_period |   1   | 1.41132201215e-06  |        nan        |\n",
      "| Quantity_by_period |   10  | 8.91776188156e-07  |        nan        |\n",
      "|      Lifetime      |  None | 1.21660581339e-07  | 1.95521304595e-05 |\n",
      "|     CustomerID     |  None | -1.12269212914e-07 | 2.83010431644e-08 |\n",
      "| Quantity_by_period |   5   | -7.36181443482e-07 |        nan        |\n",
      "| Quantity_by_period |   3   | -1.39334781233e-06 |        nan        |\n",
      "|   Txs_by_period    |   2   | -4.11964843166e-06 |   23.0386291279   |\n",
      "| Quantity_by_period |   2   | -4.38848333499e-06 |        nan        |\n",
      "| Quantity_by_period |   7   | -4.82533936741e-06 |        nan        |\n",
      "| Quantity_by_period |   8   | -4.83332258408e-06 |        nan        |\n",
      "|   Txs_by_period    |   9   | -1.30177023099e-05 |   23.0386291279   |\n",
      "|   Txs_by_period    |   4   | -2.3477149856e-05  |   23.0386291279   |\n",
      "|   Txs_by_period    |   11  | -3.66052777131e-05 |   23.0386291279   |\n",
      "|   Txs_by_period    |   12  | -0.000224987354155 |    23.038629128   |\n",
      "+--------------------+-------+--------------------+-------------------+\n",
      "[41 rows x 4 columns]\n",
      "\n"
     ]
    }
   ],
   "source": [
    "clv_LR.coefficients.sort('value', ascending=False).print_rows(num_rows=50)"
   ]
  },
  {
   "cell_type": "code",
   "execution_count": null,
   "metadata": {
    "collapsed": true
   },
   "outputs": [],
   "source": []
  }
 ],
 "metadata": {
  "kernelspec": {
   "display_name": "Python 2",
   "language": "python",
   "name": "python2"
  },
  "language_info": {
   "codemirror_mode": {
    "name": "ipython",
    "version": 2
   },
   "file_extension": ".py",
   "mimetype": "text/x-python",
   "name": "python",
   "nbconvert_exporter": "python",
   "pygments_lexer": "ipython2",
   "version": "2.7.11"
  },
  "toc": {
   "toc_cell": false,
   "toc_number_sections": false,
   "toc_section_display": "block",
   "toc_threshold": "2",
   "toc_window_display": true
  },
  "toc_position": {
   "height": "144px",
   "left": "1673.25px",
   "right": "20px",
   "top": "35px",
   "width": "259px"
  }
 },
 "nbformat": 4,
 "nbformat_minor": 0
}
